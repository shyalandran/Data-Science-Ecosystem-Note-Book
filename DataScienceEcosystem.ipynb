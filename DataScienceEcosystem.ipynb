{
 "cells": [
  {
   "cell_type": "markdown",
   "id": "e1de929b-57d3-40ca-b071-837d21f307c7",
   "metadata": {},
   "source": [
    "# Data Science Tools and Ecosystem\n"
   ]
  },
  {
   "cell_type": "markdown",
   "id": "5788db48-2b2c-4e9c-a01a-4d9d3f137c6c",
   "metadata": {},
   "source": [
    "In this notebook, Data Science Tools and Ecosystem are summarized."
   ]
  },
  {
   "cell_type": "markdown",
   "id": "25181906-b76a-4c1b-bd6b-ce74b3f5f331",
   "metadata": {},
   "source": [
    "**Objectives:**\n"
   ]
  },
  {
   "cell_type": "markdown",
   "id": "85a75674-c9d1-4d08-a203-33ceb85ed3dc",
   "metadata": {},
   "source": [
    "* List popular languages for Data Science\n",
    "* Some of the commonly used libraries used by Data Scientists include:\n",
    "* Below are a few examples of evaluating arithmetic expressions in Python\n"
   ]
  },
  {
   "cell_type": "markdown",
   "id": "af3d8636-dc5f-4b69-a062-d9ee7b1434a9",
   "metadata": {
    "jp-MarkdownHeadingCollapsed": true
   },
   "source": [
    "Some of the popular languages that Data Scientists use are:\n",
    "\n",
    "1. Python\n",
    "2. R\n",
    "3. sql\n"
   ]
  },
  {
   "cell_type": "markdown",
   "id": "d475fa3d-5335-4ba3-80a6-d923356a9b1c",
   "metadata": {},
   "source": [
    "Some of the commonly used libraries used by Data Scientists include:\n",
    "\n",
    "1. NumPy\n",
    "2. Pandas\n",
    "3. Matplotlib\n",
    "   "
   ]
  },
  {
   "cell_type": "markdown",
   "id": "c1fce0b2-34a7-42c4-a667-57795cd8fc1a",
   "metadata": {},
   "source": [
    "|Data Science Tools|\n",
    "| - |\n",
    " |Apache Spark|\n",
    " |TensorFlow|\n",
    " |Apache Hadoop|\n",
    "\n"
   ]
  },
  {
   "cell_type": "markdown",
   "id": "4972cbcd-2080-4d62-b5c4-6a3a85c8f456",
   "metadata": {},
   "source": [
    " ### Below are a few examples of evaluating arithmetic expressions in Python"
   ]
  },
  {
   "cell_type": "markdown",
   "id": "b8dd0326-175d-4743-b273-d20493284c4b",
   "metadata": {},
   "source": [
    "This a simple arithmetic expression to mutiply then add integers"
   ]
  },
  {
   "cell_type": "code",
   "execution_count": 33,
   "id": "d48b9c9b-d46f-411d-b69c-14bbde9efdb5",
   "metadata": {},
   "outputs": [
    {
     "data": {
      "text/plain": [
       "17"
      ]
     },
     "execution_count": 33,
     "metadata": {},
     "output_type": "execute_result"
    }
   ],
   "source": [
    "(3*4)+5"
   ]
  },
  {
   "cell_type": "markdown",
   "id": "5d60c5f2-2fa2-48c3-8da8-a83fe620af76",
   "metadata": {},
   "source": [
    "This will convert 200 minutes to hours by diving by 60\n"
   ]
  },
  {
   "cell_type": "code",
   "execution_count": 53,
   "id": "50879b2a-ce4a-4860-a191-94dccc564aae",
   "metadata": {},
   "outputs": [
    {
     "data": {
      "text/plain": [
       "3.3333333333333335"
      ]
     },
     "execution_count": 53,
     "metadata": {},
     "output_type": "execute_result"
    }
   ],
   "source": [
    "min = 200\n",
    "hr = 200/60\n",
    "hr"
   ]
  },
  {
   "cell_type": "markdown",
   "id": "792a27fb-ecf4-48e7-9fac-fb66ba8bcd23",
   "metadata": {},
   "source": [
    "## Author"
   ]
  },
  {
   "cell_type": "markdown",
   "id": "ec77eb7f-ac83-42b6-8f51-bcc0f8940832",
   "metadata": {},
   "source": [
    "SHYALANDRAN J"
   ]
  },
  {
   "cell_type": "code",
   "execution_count": null,
   "id": "4d4dd2f6-39e5-484e-aab1-cd95507ca288",
   "metadata": {},
   "outputs": [],
   "source": []
  }
 ],
 "metadata": {
  "kernelspec": {
   "display_name": "Python [conda env:base] *",
   "language": "python",
   "name": "conda-base-py"
  },
  "language_info": {
   "codemirror_mode": {
    "name": "ipython",
    "version": 3
   },
   "file_extension": ".py",
   "mimetype": "text/x-python",
   "name": "python",
   "nbconvert_exporter": "python",
   "pygments_lexer": "ipython3",
   "version": "3.12.7"
  }
 },
 "nbformat": 4,
 "nbformat_minor": 5
}
